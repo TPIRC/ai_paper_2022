{
 "cells": [
  {
   "cell_type": "markdown",
   "source": [
    "<h1 align=\"center\"> AI Manuscript </h1>"
   ],
   "metadata": {
    "collapsed": false
   }
  },
  {
   "cell_type": "code",
   "execution_count": 4,
   "outputs": [],
   "source": [
    "%matplotlib inline\n",
    "import pandas as pd\n",
    "import numpy as np\n",
    "import warnings\n",
    "import json\n",
    "warnings.filterwarnings('ignore')\n",
    "import matplotlib.pyplot as plt\n",
    "from aipaper22.columns import *\n"
   ],
   "metadata": {
    "collapsed": false
   }
  },
  {
   "cell_type": "markdown",
   "source": [
    "## Specific columns definitions"
   ],
   "metadata": {
    "collapsed": false
   }
  },
  {
   "cell_type": "code",
   "execution_count": 1,
   "outputs": [],
   "source": [
    "TARGET = 'Peanut'\n",
    "IGE_MARGIN = 1000\n",
    "IGE_FEATURE = 'ige'\n",
    "APRIORI_RELEVANT_FEATURES = ['peanut_ige', 'peanut_spt', 'peanut_igg4', 'arah_1', 'arah_3', 'arah_6', 'arah_8', 'arah_9']\n",
    "CHOSEN_ADDON_FEATURES = ['total_igg4', 'cyt', 'eos']"
   ],
   "metadata": {
    "collapsed": false
   }
  },
  {
   "cell_type": "markdown",
   "source": [
    "## Dataset loading"
   ],
   "metadata": {
    "collapsed": false
   }
  },
  {
   "cell_type": "code",
   "execution_count": 10,
   "outputs": [],
   "source": [
    "df = pd.read_csv('../antihistamine.csv', low_memory=False)\n",
    "df.set_index(ATHENA_COLUMN, inplace=True)\n",
    "df = df[df.__scores == True]\n",
    "df = df[df.__tests == True]\n",
    "df = df[df.__endotype == True]\n",
    "df = df[df.Endotype == 1]\n",
    "df = df[~df.Peanut.isna()]\n",
    "df = df[~df.ige.isna()]\n",
    "df = df[['Peanut', 'age', 'f_weight'] + TESTS_COLUMNS]\n",
    "plant_kingdom_epitope_columns = ['cyn_d_1_ige', 'phl_p_1_ige',\n",
    "                                 'phl_p_2_ige',\n",
    "                                 'phl_p_6_ige',\n",
    "                                 'phl_p_7_ige',\n",
    "                                 'phl_p_12_ige',\n",
    "                                 'phl_p_5b_ige', 'bet_v_1_ige', 'bet_v_2_ige', 'bet_v_4_ige', 'bet_v_6_ige',\n",
    "                                 'ole_e_1_ige', 'ole_e_7_ige', 'art_v_1_ige', 'art_v_3_ige'\n",
    "                                 ]\n",
    "df['plant_kingdom_epitope'] = df[plant_kingdom_epitope_columns].max(axis=1)\n",
    "df['arahs'] = df[['arah_1', 'arah_2', 'arah_3', 'arah_8', 'arah_9']].max(axis=1)\n",
    "ldf = df[df.ige <= 1000]\n",
    "hdf = df[df.ige > 1000]"
   ],
   "metadata": {
    "collapsed": false
   }
  },
  {
   "cell_type": "markdown",
   "source": [
    "# Saving data for histogram plots"
   ],
   "metadata": {
    "collapsed": false
   }
  },
  {
   "cell_type": "code",
   "execution_count": 15,
   "outputs": [],
   "source": [
    "df[~df.age.isna()][['age']].to_csv('./art_data_age.csv')\n",
    "df[~df.eos.isna()][['eos']].to_csv('./art_data_eos.csv')\n",
    "df[~df.ige.isna()][['ige']].to_csv('./art_data_totalige.csv')\n",
    "df[~df.arahs.isna()][['arahs']].to_csv('./art_data_arahs.csv')\n",
    "df[~df.plant_kingdom_epitope.isna()][['plant_kingdom_epitope']].to_csv('./art_data_plant_kingdom_epitope.csv')\n",
    "df[(~df.arahs.isna()) & (~df.Peanut.isna())][['arahs', 'Peanut']].to_csv('./art_data_score_vs_arahs.csv')\n",
    "df[(~df.peanut_ige.isna()) & (~df.Peanut.isna())][['peanut_ige', 'Peanut']].to_csv('./art_data_score_vs_peanut_ige.csv')\n",
    "df[(~df.peanut_spt.isna()) & (~df.Peanut.isna())][['peanut_spt', 'Peanut']].to_csv('./art_data_score_vs_peanut_spt.csv')"
   ],
   "metadata": {
    "collapsed": false
   }
  },
  {
   "cell_type": "code",
   "execution_count": 16,
   "outputs": [
    {
     "data": {
      "text/plain": "(530, 246)"
     },
     "execution_count": 16,
     "metadata": {},
     "output_type": "execute_result"
    }
   ],
   "source": [
    "df.shape"
   ],
   "metadata": {
    "collapsed": false
   }
  },
  {
   "cell_type": "code",
   "execution_count": 17,
   "outputs": [
    {
     "data": {
      "text/plain": "(340, 246)"
     },
     "execution_count": 17,
     "metadata": {},
     "output_type": "execute_result"
    }
   ],
   "source": [
    "ldf.shape"
   ],
   "metadata": {
    "collapsed": false
   }
  },
  {
   "cell_type": "code",
   "execution_count": 18,
   "outputs": [
    {
     "data": {
      "text/plain": "(190, 246)"
     },
     "execution_count": 18,
     "metadata": {},
     "output_type": "execute_result"
    }
   ],
   "source": [
    "hdf.shape"
   ],
   "metadata": {
    "collapsed": false
   }
  },
  {
   "cell_type": "code",
   "execution_count": null,
   "outputs": [],
   "source": [],
   "metadata": {
    "collapsed": false
   }
  }
 ],
 "metadata": {
  "kernelspec": {
   "display_name": "Python 3",
   "language": "python",
   "name": "python3"
  },
  "language_info": {
   "codemirror_mode": {
    "name": "ipython",
    "version": 2
   },
   "file_extension": ".py",
   "mimetype": "text/x-python",
   "name": "python",
   "nbconvert_exporter": "python",
   "pygments_lexer": "ipython2",
   "version": "2.7.6"
  }
 },
 "nbformat": 4,
 "nbformat_minor": 0
}
